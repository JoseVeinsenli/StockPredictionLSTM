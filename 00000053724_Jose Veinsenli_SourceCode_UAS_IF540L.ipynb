{
 "cells": [
  {
   "cell_type": "markdown",
   "id": "aea691db",
   "metadata": {},
   "source": [
    "## <div align=\"center\"> PROJEK AKHIR MATA KULIAH MACHINE LEARNING </div>\n",
    "## <div align=\"center\"> PREDIKSI HARGA SAHAM PT SUMMARECON AGUNG TBK SEBAGAI INVESTASI JANGKA PANJANG</div>\n",
    "<p><center><b></b><center> \n",
    "<p><center><b>Jose Veinsenli (00000053724)</b><center>\n"
   ]
  },
  {
   "cell_type": "markdown",
   "id": "ce3f5e6e",
   "metadata": {},
   "source": [
    "\n",
    "---\n",
    "\n",
    "### Dataset yang diambil dari repositori:\n",
    "\n",
    "1. [PT Summarecon Agung Tbk (SMRA.JK)] – sumber : [https://finance.yahoo.com/quote/SMRA.JK/history?p=SMRA.JK]\n",
    "\n",
    "### Hasil kerja"
   ]
  },
  {
   "cell_type": "code",
   "execution_count": 1,
   "id": "cf05e726",
   "metadata": {},
   "outputs": [],
   "source": [
    "def warn(*args, **kwargs):\n",
    "    pass\n",
    "import warnings\n",
    "warnings.warn = warn"
   ]
  },
  {
   "cell_type": "code",
   "execution_count": 2,
   "id": "d8c4470e",
   "metadata": {},
   "outputs": [],
   "source": [
    "import pandas as pd\n",
    "import numpy as np\n",
    "from sklearn import metrics\n",
    "%matplotlib inline\n",
    "import matplotlib.pyplot as plt\n",
    "import datetime\n",
    "import math\n",
    "import yfinance as yf\n",
    "from sklearn.preprocessing import MinMaxScaler, StandardScaler, RobustScaler\n",
    "from sklearn.metrics import mean_absolute_error, r2_score, accuracy_score, f1_score, mean_squared_error\n",
    "import tensorflow as tf\n",
    "from tensorflow import keras\n",
    "from tensorflow.keras import layers\n",
    "from tensorflow.keras.models import Sequential\n",
    "from tensorflow.keras.layers import LSTM, Dense, Dropout, Input\n",
    "from tensorflow.keras.optimizers import Adam, Adagrad, Adamax, Adadelta\n",
    "from sklearn.model_selection import GridSearchCV"
   ]
  },
  {
   "cell_type": "code",
   "execution_count": 3,
   "id": "ae94274d",
   "metadata": {},
   "outputs": [],
   "source": [
    "smra = pd.read_excel('SMRA.xlsx')"
   ]
  },
  {
   "cell_type": "code",
   "execution_count": 4,
   "id": "d59fe91f",
   "metadata": {
    "scrolled": true
   },
   "outputs": [
    {
     "data": {
      "text/html": [
       "<div>\n",
       "<style scoped>\n",
       "    .dataframe tbody tr th:only-of-type {\n",
       "        vertical-align: middle;\n",
       "    }\n",
       "\n",
       "    .dataframe tbody tr th {\n",
       "        vertical-align: top;\n",
       "    }\n",
       "\n",
       "    .dataframe thead th {\n",
       "        text-align: right;\n",
       "    }\n",
       "</style>\n",
       "<table border=\"1\" class=\"dataframe\">\n",
       "  <thead>\n",
       "    <tr style=\"text-align: right;\">\n",
       "      <th></th>\n",
       "      <th>Date</th>\n",
       "      <th>Open</th>\n",
       "      <th>High</th>\n",
       "      <th>Low</th>\n",
       "      <th>Close</th>\n",
       "      <th>Adj Close</th>\n",
       "      <th>Volume</th>\n",
       "    </tr>\n",
       "  </thead>\n",
       "  <tbody>\n",
       "    <tr>\n",
       "      <th>0</th>\n",
       "      <td>2018-03-22</td>\n",
       "      <td>935</td>\n",
       "      <td>950</td>\n",
       "      <td>915</td>\n",
       "      <td>925</td>\n",
       "      <td>906</td>\n",
       "      <td>12902100</td>\n",
       "    </tr>\n",
       "    <tr>\n",
       "      <th>1</th>\n",
       "      <td>2018-03-23</td>\n",
       "      <td>905</td>\n",
       "      <td>920</td>\n",
       "      <td>880</td>\n",
       "      <td>915</td>\n",
       "      <td>896</td>\n",
       "      <td>22152400</td>\n",
       "    </tr>\n",
       "    <tr>\n",
       "      <th>2</th>\n",
       "      <td>2018-03-26</td>\n",
       "      <td>915</td>\n",
       "      <td>935</td>\n",
       "      <td>900</td>\n",
       "      <td>905</td>\n",
       "      <td>887</td>\n",
       "      <td>10657100</td>\n",
       "    </tr>\n",
       "    <tr>\n",
       "      <th>3</th>\n",
       "      <td>2018-03-27</td>\n",
       "      <td>915</td>\n",
       "      <td>920</td>\n",
       "      <td>905</td>\n",
       "      <td>910</td>\n",
       "      <td>892</td>\n",
       "      <td>13060300</td>\n",
       "    </tr>\n",
       "    <tr>\n",
       "      <th>4</th>\n",
       "      <td>2018-03-28</td>\n",
       "      <td>905</td>\n",
       "      <td>910</td>\n",
       "      <td>890</td>\n",
       "      <td>895</td>\n",
       "      <td>877</td>\n",
       "      <td>5801600</td>\n",
       "    </tr>\n",
       "    <tr>\n",
       "      <th>...</th>\n",
       "      <td>...</td>\n",
       "      <td>...</td>\n",
       "      <td>...</td>\n",
       "      <td>...</td>\n",
       "      <td>...</td>\n",
       "      <td>...</td>\n",
       "      <td>...</td>\n",
       "    </tr>\n",
       "    <tr>\n",
       "      <th>1247</th>\n",
       "      <td>2023-03-15</td>\n",
       "      <td>550</td>\n",
       "      <td>560</td>\n",
       "      <td>545</td>\n",
       "      <td>550</td>\n",
       "      <td>550</td>\n",
       "      <td>12743800</td>\n",
       "    </tr>\n",
       "    <tr>\n",
       "      <th>1248</th>\n",
       "      <td>2023-03-16</td>\n",
       "      <td>550</td>\n",
       "      <td>550</td>\n",
       "      <td>515</td>\n",
       "      <td>525</td>\n",
       "      <td>525</td>\n",
       "      <td>23894600</td>\n",
       "    </tr>\n",
       "    <tr>\n",
       "      <th>1249</th>\n",
       "      <td>2023-03-17</td>\n",
       "      <td>525</td>\n",
       "      <td>545</td>\n",
       "      <td>520</td>\n",
       "      <td>525</td>\n",
       "      <td>525</td>\n",
       "      <td>17400400</td>\n",
       "    </tr>\n",
       "    <tr>\n",
       "      <th>1250</th>\n",
       "      <td>2023-03-20</td>\n",
       "      <td>530</td>\n",
       "      <td>535</td>\n",
       "      <td>498</td>\n",
       "      <td>500</td>\n",
       "      <td>500</td>\n",
       "      <td>28111900</td>\n",
       "    </tr>\n",
       "    <tr>\n",
       "      <th>1251</th>\n",
       "      <td>2023-03-21</td>\n",
       "      <td>505</td>\n",
       "      <td>525</td>\n",
       "      <td>500</td>\n",
       "      <td>515</td>\n",
       "      <td>515</td>\n",
       "      <td>18085700</td>\n",
       "    </tr>\n",
       "  </tbody>\n",
       "</table>\n",
       "<p>1252 rows × 7 columns</p>\n",
       "</div>"
      ],
      "text/plain": [
       "           Date  Open  High  Low  Close  Adj Close    Volume\n",
       "0    2018-03-22   935   950  915    925        906  12902100\n",
       "1    2018-03-23   905   920  880    915        896  22152400\n",
       "2    2018-03-26   915   935  900    905        887  10657100\n",
       "3    2018-03-27   915   920  905    910        892  13060300\n",
       "4    2018-03-28   905   910  890    895        877   5801600\n",
       "...         ...   ...   ...  ...    ...        ...       ...\n",
       "1247 2023-03-15   550   560  545    550        550  12743800\n",
       "1248 2023-03-16   550   550  515    525        525  23894600\n",
       "1249 2023-03-17   525   545  520    525        525  17400400\n",
       "1250 2023-03-20   530   535  498    500        500  28111900\n",
       "1251 2023-03-21   505   525  500    515        515  18085700\n",
       "\n",
       "[1252 rows x 7 columns]"
      ]
     },
     "execution_count": 4,
     "metadata": {},
     "output_type": "execute_result"
    }
   ],
   "source": [
    "smra"
   ]
  },
  {
   "cell_type": "markdown",
   "id": "971756f0",
   "metadata": {},
   "source": [
    "## Preprocessing"
   ]
  },
  {
   "cell_type": "code",
   "execution_count": 5,
   "id": "d5d953b1",
   "metadata": {},
   "outputs": [],
   "source": [
    "smra = smra.drop(columns=['Adj Close'])"
   ]
  },
  {
   "cell_type": "code",
   "execution_count": 6,
   "id": "273c3958",
   "metadata": {
    "scrolled": true
   },
   "outputs": [
    {
     "data": {
      "text/plain": [
       "(1252, 6)"
      ]
     },
     "execution_count": 6,
     "metadata": {},
     "output_type": "execute_result"
    }
   ],
   "source": [
    "smra.shape"
   ]
  },
  {
   "cell_type": "code",
   "execution_count": 7,
   "id": "0b3eb175",
   "metadata": {
    "scrolled": false
   },
   "outputs": [
    {
     "data": {
      "text/html": [
       "<div>\n",
       "<style scoped>\n",
       "    .dataframe tbody tr th:only-of-type {\n",
       "        vertical-align: middle;\n",
       "    }\n",
       "\n",
       "    .dataframe tbody tr th {\n",
       "        vertical-align: top;\n",
       "    }\n",
       "\n",
       "    .dataframe thead th {\n",
       "        text-align: right;\n",
       "    }\n",
       "</style>\n",
       "<table border=\"1\" class=\"dataframe\">\n",
       "  <thead>\n",
       "    <tr style=\"text-align: right;\">\n",
       "      <th></th>\n",
       "      <th>Date</th>\n",
       "      <th>Open</th>\n",
       "      <th>High</th>\n",
       "      <th>Low</th>\n",
       "      <th>Close</th>\n",
       "      <th>Volume</th>\n",
       "    </tr>\n",
       "  </thead>\n",
       "  <tbody>\n",
       "    <tr>\n",
       "      <th>0</th>\n",
       "      <td>2018-03-22</td>\n",
       "      <td>935</td>\n",
       "      <td>950</td>\n",
       "      <td>915</td>\n",
       "      <td>925</td>\n",
       "      <td>12902100</td>\n",
       "    </tr>\n",
       "    <tr>\n",
       "      <th>1</th>\n",
       "      <td>2018-03-23</td>\n",
       "      <td>905</td>\n",
       "      <td>920</td>\n",
       "      <td>880</td>\n",
       "      <td>915</td>\n",
       "      <td>22152400</td>\n",
       "    </tr>\n",
       "    <tr>\n",
       "      <th>2</th>\n",
       "      <td>2018-03-26</td>\n",
       "      <td>915</td>\n",
       "      <td>935</td>\n",
       "      <td>900</td>\n",
       "      <td>905</td>\n",
       "      <td>10657100</td>\n",
       "    </tr>\n",
       "    <tr>\n",
       "      <th>3</th>\n",
       "      <td>2018-03-27</td>\n",
       "      <td>915</td>\n",
       "      <td>920</td>\n",
       "      <td>905</td>\n",
       "      <td>910</td>\n",
       "      <td>13060300</td>\n",
       "    </tr>\n",
       "    <tr>\n",
       "      <th>4</th>\n",
       "      <td>2018-03-28</td>\n",
       "      <td>905</td>\n",
       "      <td>910</td>\n",
       "      <td>890</td>\n",
       "      <td>895</td>\n",
       "      <td>5801600</td>\n",
       "    </tr>\n",
       "    <tr>\n",
       "      <th>5</th>\n",
       "      <td>2018-03-29</td>\n",
       "      <td>900</td>\n",
       "      <td>920</td>\n",
       "      <td>900</td>\n",
       "      <td>905</td>\n",
       "      <td>12567300</td>\n",
       "    </tr>\n",
       "    <tr>\n",
       "      <th>6</th>\n",
       "      <td>2018-03-30</td>\n",
       "      <td>905</td>\n",
       "      <td>905</td>\n",
       "      <td>905</td>\n",
       "      <td>905</td>\n",
       "      <td>0</td>\n",
       "    </tr>\n",
       "    <tr>\n",
       "      <th>7</th>\n",
       "      <td>2018-04-02</td>\n",
       "      <td>925</td>\n",
       "      <td>925</td>\n",
       "      <td>900</td>\n",
       "      <td>910</td>\n",
       "      <td>4766200</td>\n",
       "    </tr>\n",
       "    <tr>\n",
       "      <th>8</th>\n",
       "      <td>2018-04-03</td>\n",
       "      <td>890</td>\n",
       "      <td>910</td>\n",
       "      <td>890</td>\n",
       "      <td>900</td>\n",
       "      <td>12836400</td>\n",
       "    </tr>\n",
       "    <tr>\n",
       "      <th>9</th>\n",
       "      <td>2018-04-04</td>\n",
       "      <td>900</td>\n",
       "      <td>910</td>\n",
       "      <td>880</td>\n",
       "      <td>890</td>\n",
       "      <td>14475800</td>\n",
       "    </tr>\n",
       "  </tbody>\n",
       "</table>\n",
       "</div>"
      ],
      "text/plain": [
       "        Date  Open  High  Low  Close    Volume\n",
       "0 2018-03-22   935   950  915    925  12902100\n",
       "1 2018-03-23   905   920  880    915  22152400\n",
       "2 2018-03-26   915   935  900    905  10657100\n",
       "3 2018-03-27   915   920  905    910  13060300\n",
       "4 2018-03-28   905   910  890    895   5801600\n",
       "5 2018-03-29   900   920  900    905  12567300\n",
       "6 2018-03-30   905   905  905    905         0\n",
       "7 2018-04-02   925   925  900    910   4766200\n",
       "8 2018-04-03   890   910  890    900  12836400\n",
       "9 2018-04-04   900   910  880    890  14475800"
      ]
     },
     "execution_count": 7,
     "metadata": {},
     "output_type": "execute_result"
    }
   ],
   "source": [
    "smra.head(10)"
   ]
  },
  {
   "cell_type": "code",
   "execution_count": 8,
   "id": "50c07afa",
   "metadata": {
    "scrolled": true
   },
   "outputs": [
    {
     "name": "stdout",
     "output_type": "stream",
     "text": [
      "<class 'pandas.core.frame.DataFrame'>\n",
      "RangeIndex: 1252 entries, 0 to 1251\n",
      "Data columns (total 6 columns):\n",
      " #   Column  Non-Null Count  Dtype         \n",
      "---  ------  --------------  -----         \n",
      " 0   Date    1252 non-null   datetime64[ns]\n",
      " 1   Open    1252 non-null   int64         \n",
      " 2   High    1252 non-null   int64         \n",
      " 3   Low     1252 non-null   int64         \n",
      " 4   Close   1252 non-null   int64         \n",
      " 5   Volume  1252 non-null   int64         \n",
      "dtypes: datetime64[ns](1), int64(5)\n",
      "memory usage: 58.8 KB\n"
     ]
    }
   ],
   "source": [
    "smra.info()"
   ]
  },
  {
   "cell_type": "code",
   "execution_count": 9,
   "id": "897b82d9",
   "metadata": {
    "scrolled": true
   },
   "outputs": [
    {
     "data": {
      "text/plain": [
       "Date      0\n",
       "Open      0\n",
       "High      0\n",
       "Low       0\n",
       "Close     0\n",
       "Volume    0\n",
       "dtype: int64"
      ]
     },
     "execution_count": 9,
     "metadata": {},
     "output_type": "execute_result"
    }
   ],
   "source": [
    "smra.isnull().sum()"
   ]
  },
  {
   "cell_type": "code",
   "execution_count": 10,
   "id": "e29b7cf0",
   "metadata": {},
   "outputs": [
    {
     "data": {
      "text/plain": [
       "Date      False\n",
       "Open      False\n",
       "High      False\n",
       "Low       False\n",
       "Close     False\n",
       "Volume    False\n",
       "dtype: bool"
      ]
     },
     "execution_count": 10,
     "metadata": {},
     "output_type": "execute_result"
    }
   ],
   "source": [
    "smra.isna().any()"
   ]
  },
  {
   "cell_type": "code",
   "execution_count": 11,
   "id": "ca975893",
   "metadata": {
    "scrolled": true
   },
   "outputs": [
    {
     "name": "stdout",
     "output_type": "stream",
     "text": [
      "<class 'pandas.core.frame.DataFrame'>\n",
      "RangeIndex: 1252 entries, 0 to 1251\n",
      "Data columns (total 6 columns):\n",
      " #   Column  Non-Null Count  Dtype         \n",
      "---  ------  --------------  -----         \n",
      " 0   Date    1252 non-null   datetime64[ns]\n",
      " 1   Open    1252 non-null   int64         \n",
      " 2   High    1252 non-null   int64         \n",
      " 3   Low     1252 non-null   int64         \n",
      " 4   Close   1252 non-null   int64         \n",
      " 5   Volume  1252 non-null   int64         \n",
      "dtypes: datetime64[ns](1), int64(5)\n",
      "memory usage: 58.8 KB\n"
     ]
    }
   ],
   "source": [
    "smra.info()"
   ]
  },
  {
   "cell_type": "code",
   "execution_count": 12,
   "id": "a06338dc",
   "metadata": {},
   "outputs": [
    {
     "data": {
      "text/html": [
       "<div>\n",
       "<style scoped>\n",
       "    .dataframe tbody tr th:only-of-type {\n",
       "        vertical-align: middle;\n",
       "    }\n",
       "\n",
       "    .dataframe tbody tr th {\n",
       "        vertical-align: top;\n",
       "    }\n",
       "\n",
       "    .dataframe thead th {\n",
       "        text-align: right;\n",
       "    }\n",
       "</style>\n",
       "<table border=\"1\" class=\"dataframe\">\n",
       "  <thead>\n",
       "    <tr style=\"text-align: right;\">\n",
       "      <th></th>\n",
       "      <th>Date</th>\n",
       "      <th>Open</th>\n",
       "      <th>High</th>\n",
       "      <th>Low</th>\n",
       "      <th>Close</th>\n",
       "      <th>Volume</th>\n",
       "    </tr>\n",
       "  </thead>\n",
       "  <tbody>\n",
       "    <tr>\n",
       "      <th>0</th>\n",
       "      <td>2018-03-22</td>\n",
       "      <td>935</td>\n",
       "      <td>950</td>\n",
       "      <td>915</td>\n",
       "      <td>925</td>\n",
       "      <td>12902100</td>\n",
       "    </tr>\n",
       "    <tr>\n",
       "      <th>1</th>\n",
       "      <td>2018-03-23</td>\n",
       "      <td>905</td>\n",
       "      <td>920</td>\n",
       "      <td>880</td>\n",
       "      <td>915</td>\n",
       "      <td>22152400</td>\n",
       "    </tr>\n",
       "    <tr>\n",
       "      <th>2</th>\n",
       "      <td>2018-03-26</td>\n",
       "      <td>915</td>\n",
       "      <td>935</td>\n",
       "      <td>900</td>\n",
       "      <td>905</td>\n",
       "      <td>10657100</td>\n",
       "    </tr>\n",
       "    <tr>\n",
       "      <th>3</th>\n",
       "      <td>2018-03-27</td>\n",
       "      <td>915</td>\n",
       "      <td>920</td>\n",
       "      <td>905</td>\n",
       "      <td>910</td>\n",
       "      <td>13060300</td>\n",
       "    </tr>\n",
       "    <tr>\n",
       "      <th>4</th>\n",
       "      <td>2018-03-28</td>\n",
       "      <td>905</td>\n",
       "      <td>910</td>\n",
       "      <td>890</td>\n",
       "      <td>895</td>\n",
       "      <td>5801600</td>\n",
       "    </tr>\n",
       "    <tr>\n",
       "      <th>...</th>\n",
       "      <td>...</td>\n",
       "      <td>...</td>\n",
       "      <td>...</td>\n",
       "      <td>...</td>\n",
       "      <td>...</td>\n",
       "      <td>...</td>\n",
       "    </tr>\n",
       "    <tr>\n",
       "      <th>1247</th>\n",
       "      <td>2023-03-15</td>\n",
       "      <td>550</td>\n",
       "      <td>560</td>\n",
       "      <td>545</td>\n",
       "      <td>550</td>\n",
       "      <td>12743800</td>\n",
       "    </tr>\n",
       "    <tr>\n",
       "      <th>1248</th>\n",
       "      <td>2023-03-16</td>\n",
       "      <td>550</td>\n",
       "      <td>550</td>\n",
       "      <td>515</td>\n",
       "      <td>525</td>\n",
       "      <td>23894600</td>\n",
       "    </tr>\n",
       "    <tr>\n",
       "      <th>1249</th>\n",
       "      <td>2023-03-17</td>\n",
       "      <td>525</td>\n",
       "      <td>545</td>\n",
       "      <td>520</td>\n",
       "      <td>525</td>\n",
       "      <td>17400400</td>\n",
       "    </tr>\n",
       "    <tr>\n",
       "      <th>1250</th>\n",
       "      <td>2023-03-20</td>\n",
       "      <td>530</td>\n",
       "      <td>535</td>\n",
       "      <td>498</td>\n",
       "      <td>500</td>\n",
       "      <td>28111900</td>\n",
       "    </tr>\n",
       "    <tr>\n",
       "      <th>1251</th>\n",
       "      <td>2023-03-21</td>\n",
       "      <td>505</td>\n",
       "      <td>525</td>\n",
       "      <td>500</td>\n",
       "      <td>515</td>\n",
       "      <td>18085700</td>\n",
       "    </tr>\n",
       "  </tbody>\n",
       "</table>\n",
       "<p>1252 rows × 6 columns</p>\n",
       "</div>"
      ],
      "text/plain": [
       "           Date  Open  High  Low  Close    Volume\n",
       "0    2018-03-22   935   950  915    925  12902100\n",
       "1    2018-03-23   905   920  880    915  22152400\n",
       "2    2018-03-26   915   935  900    905  10657100\n",
       "3    2018-03-27   915   920  905    910  13060300\n",
       "4    2018-03-28   905   910  890    895   5801600\n",
       "...         ...   ...   ...  ...    ...       ...\n",
       "1247 2023-03-15   550   560  545    550  12743800\n",
       "1248 2023-03-16   550   550  515    525  23894600\n",
       "1249 2023-03-17   525   545  520    525  17400400\n",
       "1250 2023-03-20   530   535  498    500  28111900\n",
       "1251 2023-03-21   505   525  500    515  18085700\n",
       "\n",
       "[1252 rows x 6 columns]"
      ]
     },
     "execution_count": 12,
     "metadata": {},
     "output_type": "execute_result"
    }
   ],
   "source": [
    "smra"
   ]
  },
  {
   "cell_type": "code",
   "execution_count": 13,
   "id": "d926fca9",
   "metadata": {
    "scrolled": false
   },
   "outputs": [
    {
     "data": {
      "text/html": [
       "<div>\n",
       "<style scoped>\n",
       "    .dataframe tbody tr th:only-of-type {\n",
       "        vertical-align: middle;\n",
       "    }\n",
       "\n",
       "    .dataframe tbody tr th {\n",
       "        vertical-align: top;\n",
       "    }\n",
       "\n",
       "    .dataframe thead th {\n",
       "        text-align: right;\n",
       "    }\n",
       "</style>\n",
       "<table border=\"1\" class=\"dataframe\">\n",
       "  <thead>\n",
       "    <tr style=\"text-align: right;\">\n",
       "      <th></th>\n",
       "      <th>Open</th>\n",
       "      <th>High</th>\n",
       "      <th>Low</th>\n",
       "      <th>Close</th>\n",
       "      <th>Volume</th>\n",
       "    </tr>\n",
       "  </thead>\n",
       "  <tbody>\n",
       "    <tr>\n",
       "      <th>count</th>\n",
       "      <td>1252.000000</td>\n",
       "      <td>1252.000000</td>\n",
       "      <td>1252.000000</td>\n",
       "      <td>1252.000000</td>\n",
       "      <td>1.252000e+03</td>\n",
       "    </tr>\n",
       "    <tr>\n",
       "      <th>mean</th>\n",
       "      <td>803.908147</td>\n",
       "      <td>820.401757</td>\n",
       "      <td>785.688498</td>\n",
       "      <td>801.700479</td>\n",
       "      <td>3.163677e+07</td>\n",
       "    </tr>\n",
       "    <tr>\n",
       "      <th>std</th>\n",
       "      <td>205.196251</td>\n",
       "      <td>208.320959</td>\n",
       "      <td>200.981458</td>\n",
       "      <td>205.320694</td>\n",
       "      <td>3.268015e+07</td>\n",
       "    </tr>\n",
       "    <tr>\n",
       "      <th>min</th>\n",
       "      <td>358.000000</td>\n",
       "      <td>370.000000</td>\n",
       "      <td>350.000000</td>\n",
       "      <td>356.000000</td>\n",
       "      <td>0.000000e+00</td>\n",
       "    </tr>\n",
       "    <tr>\n",
       "      <th>25%</th>\n",
       "      <td>620.000000</td>\n",
       "      <td>634.750000</td>\n",
       "      <td>605.000000</td>\n",
       "      <td>618.750000</td>\n",
       "      <td>1.142448e+07</td>\n",
       "    </tr>\n",
       "    <tr>\n",
       "      <th>50%</th>\n",
       "      <td>800.000000</td>\n",
       "      <td>815.000000</td>\n",
       "      <td>780.000000</td>\n",
       "      <td>795.000000</td>\n",
       "      <td>2.204750e+07</td>\n",
       "    </tr>\n",
       "    <tr>\n",
       "      <th>75%</th>\n",
       "      <td>944.250000</td>\n",
       "      <td>965.000000</td>\n",
       "      <td>925.000000</td>\n",
       "      <td>945.000000</td>\n",
       "      <td>4.034138e+07</td>\n",
       "    </tr>\n",
       "    <tr>\n",
       "      <th>max</th>\n",
       "      <td>1335.000000</td>\n",
       "      <td>1360.000000</td>\n",
       "      <td>1290.000000</td>\n",
       "      <td>1330.000000</td>\n",
       "      <td>3.428448e+08</td>\n",
       "    </tr>\n",
       "  </tbody>\n",
       "</table>\n",
       "</div>"
      ],
      "text/plain": [
       "              Open         High          Low        Close        Volume\n",
       "count  1252.000000  1252.000000  1252.000000  1252.000000  1.252000e+03\n",
       "mean    803.908147   820.401757   785.688498   801.700479  3.163677e+07\n",
       "std     205.196251   208.320959   200.981458   205.320694  3.268015e+07\n",
       "min     358.000000   370.000000   350.000000   356.000000  0.000000e+00\n",
       "25%     620.000000   634.750000   605.000000   618.750000  1.142448e+07\n",
       "50%     800.000000   815.000000   780.000000   795.000000  2.204750e+07\n",
       "75%     944.250000   965.000000   925.000000   945.000000  4.034138e+07\n",
       "max    1335.000000  1360.000000  1290.000000  1330.000000  3.428448e+08"
      ]
     },
     "execution_count": 13,
     "metadata": {},
     "output_type": "execute_result"
    }
   ],
   "source": [
    "smra.describe() "
   ]
  },
  {
   "cell_type": "markdown",
   "id": "c5cce5d4",
   "metadata": {},
   "source": [
    "### "
   ]
  },
  {
   "cell_type": "markdown",
   "id": "3abb24aa",
   "metadata": {},
   "source": [
    "### Visualizing SMRA Stock"
   ]
  },
  {
   "cell_type": "code",
   "execution_count": 14,
   "id": "5f8c7c9c",
   "metadata": {},
   "outputs": [
    {
     "data": {
      "text/plain": [
       "Text(0, 0.5, 'Prices ($)')"
      ]
     },
     "execution_count": 14,
     "metadata": {},
     "output_type": "execute_result"
    },
    {
     "data": {
      "image/png": "[encoded data removed]",
      "text/plain": [
       "<Figure size 1080x576 with 1 Axes>"
      ]
     },
     "metadata": {
      "needs_background": "light"
     },
     "output_type": "display_data"
    }
   ],
   "source": [
    "plt.figure(figsize=(15, 8))\n",
    "plt.title('Stock Prices History')\n",
    "plt.plot(smra['Close'])\n",
    "plt.xlabel('Date')\n",
    "plt.ylabel('Prices ($)')"
   ]
  },
  {
   "cell_type": "markdown",
   "id": "4d9e1e81",
   "metadata": {},
   "source": [
    "### Train Test Data"
   ]
  },
  {
   "cell_type": "code",
   "execution_count": 15,
   "id": "985fb5cd",
   "metadata": {},
   "outputs": [],
   "source": [
    "close_prices = smra['Close']\n",
    "values = close_prices.values\n",
    "training_data_len = math.ceil(len(values)* 0.8)\n",
    "\n",
    "mmscal = MinMaxScaler(feature_range=(0,1))\n",
    "scaled_data = mmscal.fit_transform(values.reshape(-1,1))\n",
    "train_data = scaled_data[0: training_data_len, :]\n",
    "\n",
    "x_train = []\n",
    "y_train = []\n",
    "\n",
    "for i in range(30, len(train_data)):\n",
    "    x_train.append(train_data[i-30:i, 0])\n",
    "    y_train.append(train_data[i, 0])\n",
    "        \n",
    "x_train, y_train = np.array(x_train), np.array(y_train)\n",
    "x_train = np.reshape(x_train, (x_train.shape[0], x_train.shape[1], 1))"
   ]
  },
  {
   "cell_type": "code",
   "execution_count": 16,
   "id": "5176eed7",
   "metadata": {},
   "outputs": [],
   "source": [
    "test_data = scaled_data[training_data_len-30: , : ]\n",
    "x_test = []\n",
    "y_test = values[training_data_len:]\n",
    "\n",
    "for i in range(30, len(test_data)):\n",
    "    x_test.append(test_data[i-30:i, 0])\n",
    "\n",
    "x_test = np.array(x_test)\n",
    "x_test = np.reshape(x_test, (x_test.shape[0], x_test.shape[1], 1))"
   ]
  },
  {
   "cell_type": "markdown",
   "id": "6f675b1d",
   "metadata": {},
   "source": [
    "### Modeling"
   ]
  },
  {
   "cell_type": "code",
   "execution_count": null,
   "id": "09a3542e",
   "metadata": {
    "scrolled": false
   },
   "outputs": [
    {
     "name": "stdout",
     "output_type": "stream",
     "text": [
      "Model: \"sequential\"\n",
      "_________________________________________________________________\n",
      " Layer (type)                Output Shape              Param #   \n",
      "=================================================================\n",
      " lstm (LSTM)                 (None, 30, 126)           64512     \n",
      "                                                                 \n",
      " dense (Dense)               (None, 30, 72)            9144      \n",
      "                                                                 \n",
      " lstm_1 (LSTM)               (None, 64)                35072     \n",
      "                                                                 \n",
      " dense_1 (Dense)             (None, 48)                3120      \n",
      "                                                                 \n",
      " dropout (Dropout)           (None, 48)                0         \n",
      "                                                                 \n",
      " dense_2 (Dense)             (None, 1)                 49        \n",
      "                                                                 \n",
      "=================================================================\n",
      "Total params: 111,897\n",
      "Trainable params: 111,897\n",
      "Non-trainable params: 0\n",
      "_________________________________________________________________\n",
      "Epoch 1/75\n",
      "15/15 [==============================] - 6s 58ms/step - loss: 0.1221 - accuracy: 0.0021\n",
      "Epoch 2/75\n",
      "15/15 [==============================] - 1s 58ms/step - loss: 0.0233 - accuracy: 0.0031\n",
      "Epoch 3/75\n",
      "15/15 [==============================] - 1s 57ms/step - loss: 0.0137 - accuracy: 0.0031\n",
      "Epoch 4/75\n",
      "15/15 [==============================] - 1s 57ms/step - loss: 0.0125 - accuracy: 0.0031\n",
      "Epoch 5/75\n",
      "15/15 [==============================] - 1s 59ms/step - loss: 0.0125 - accuracy: 0.0031\n",
      "Epoch 6/75\n",
      "15/15 [==============================] - 1s 58ms/step - loss: 0.0098 - accuracy: 0.0031\n",
      "Epoch 7/75\n",
      "15/15 [==============================] - 1s 55ms/step - loss: 0.0085 - accuracy: 0.0031\n",
      "Epoch 8/75\n",
      "15/15 [==============================] - 1s 59ms/step - loss: 0.0087 - accuracy: 0.0031\n",
      "Epoch 9/75\n",
      "15/15 [==============================] - 1s 60ms/step - loss: 0.0074 - accuracy: 0.0031\n",
      "Epoch 10/75\n",
      "15/15 [==============================] - 1s 64ms/step - loss: 0.0074 - accuracy: 0.0031\n",
      "Epoch 11/75\n",
      "15/15 [==============================] - 1s 66ms/step - loss: 0.0080 - accuracy: 0.0031\n",
      "Epoch 12/75\n",
      "15/15 [==============================] - 1s 66ms/step - loss: 0.0059 - accuracy: 0.0031\n",
      "Epoch 13/75\n",
      "15/15 [==============================] - 1s 67ms/step - loss: 0.0063 - accuracy: 0.0031\n",
      "Epoch 14/75\n",
      "15/15 [==============================] - 1s 67ms/step - loss: 0.0058 - accuracy: 0.0031\n",
      "Epoch 15/75\n",
      "15/15 [==============================] - 1s 67ms/step - loss: 0.0049 - accuracy: 0.0031\n",
      "Epoch 16/75\n",
      "15/15 [==============================] - 1s 67ms/step - loss: 0.0056 - accuracy: 0.0031\n",
      "Epoch 17/75\n",
      "15/15 [==============================] - 1s 68ms/step - loss: 0.0050 - accuracy: 0.0031\n",
      "Epoch 18/75\n",
      "15/15 [==============================] - 1s 75ms/step - loss: 0.0050 - accuracy: 0.0031\n",
      "Epoch 19/75\n",
      "15/15 [==============================] - 1s 76ms/step - loss: 0.0054 - accuracy: 0.0031\n",
      "Epoch 20/75\n",
      "15/15 [==============================] - 1s 69ms/step - loss: 0.0041 - accuracy: 0.0031\n",
      "Epoch 21/75\n",
      "15/15 [==============================] - 1s 65ms/step - loss: 0.0052 - accuracy: 0.0031\n",
      "Epoch 22/75\n",
      "15/15 [==============================] - 1s 66ms/step - loss: 0.0045 - accuracy: 0.0031\n",
      "Epoch 23/75\n",
      "15/15 [==============================] - 1s 67ms/step - loss: 0.0045 - accuracy: 0.0031\n",
      "Epoch 24/75\n",
      "15/15 [==============================] - 1s 67ms/step - loss: 0.0045 - accuracy: 0.0031\n",
      "Epoch 25/75\n",
      "15/15 [==============================] - 1s 68ms/step - loss: 0.0043 - accuracy: 0.0031\n",
      "Epoch 26/75\n",
      "15/15 [==============================] - 1s 69ms/step - loss: 0.0041 - accuracy: 0.0031\n",
      "Epoch 27/75\n",
      "15/15 [==============================] - 1s 67ms/step - loss: 0.0040 - accuracy: 0.0031\n",
      "Epoch 28/75\n",
      "15/15 [==============================] - 1s 67ms/step - loss: 0.0039 - accuracy: 0.0031\n",
      "Epoch 29/75\n",
      "15/15 [==============================] - 1s 68ms/step - loss: 0.0040 - accuracy: 0.0031\n",
      "Epoch 30/75\n",
      "15/15 [==============================] - 1s 70ms/step - loss: 0.0045 - accuracy: 0.0031\n",
      "Epoch 31/75\n",
      "15/15 [==============================] - 1s 69ms/step - loss: 0.0041 - accuracy: 0.0031\n",
      "Epoch 32/75\n",
      "15/15 [==============================] - 1s 69ms/step - loss: 0.0043 - accuracy: 0.0031\n",
      "Epoch 33/75\n",
      "15/15 [==============================] - 1s 68ms/step - loss: 0.0045 - accuracy: 0.0031\n",
      "Epoch 34/75\n",
      "15/15 [==============================] - 1s 74ms/step - loss: 0.0043 - accuracy: 0.0031\n",
      "Epoch 35/75\n",
      "15/15 [==============================] - 1s 68ms/step - loss: 0.0040 - accuracy: 0.0031\n",
      "Epoch 36/75\n",
      "15/15 [==============================] - 1s 72ms/step - loss: 0.0044 - accuracy: 0.0031\n",
      "Epoch 37/75\n",
      "15/15 [==============================] - 1s 74ms/step - loss: 0.0041 - accuracy: 0.0031\n",
      "Epoch 38/75\n",
      "15/15 [==============================] - 1s 80ms/step - loss: 0.0043 - accuracy: 0.0031\n",
      "Epoch 39/75\n",
      "15/15 [==============================] - 1s 75ms/step - loss: 0.0039 - accuracy: 0.0031\n",
      "Epoch 40/75\n",
      "15/15 [==============================] - 1s 71ms/step - loss: 0.0043 - accuracy: 0.0031\n",
      "Epoch 41/75\n",
      "15/15 [==============================] - 1s 79ms/step - loss: 0.0040 - accuracy: 0.0031\n",
      "Epoch 42/75\n",
      "15/15 [==============================] - 1s 72ms/step - loss: 0.0039 - accuracy: 0.0031\n",
      "Epoch 43/75\n",
      "15/15 [==============================] - 1s 73ms/step - loss: 0.0044 - accuracy: 0.0031\n",
      "Epoch 44/75\n",
      "15/15 [==============================] - 1s 79ms/step - loss: 0.0047 - accuracy: 0.0031\n",
      "Epoch 45/75\n",
      "15/15 [==============================] - 1s 79ms/step - loss: 0.0037 - accuracy: 0.0031\n",
      "Epoch 46/75\n",
      "15/15 [==============================] - 1s 73ms/step - loss: 0.0038 - accuracy: 0.0031\n",
      "Epoch 47/75\n",
      "15/15 [==============================] - 1s 69ms/step - loss: 0.0036 - accuracy: 0.0031\n",
      "Epoch 48/75\n",
      "15/15 [==============================] - 1s 72ms/step - loss: 0.0040 - accuracy: 0.0031\n",
      "Epoch 49/75\n",
      "15/15 [==============================] - 1s 71ms/step - loss: 0.0048 - accuracy: 0.0031\n",
      "Epoch 50/75\n",
      "15/15 [==============================] - 1s 74ms/step - loss: 0.0040 - accuracy: 0.0031\n",
      "Epoch 51/75\n",
      "15/15 [==============================] - 1s 74ms/step - loss: 0.0043 - accuracy: 0.0031\n",
      "Epoch 52/75\n",
      "15/15 [==============================] - 1s 73ms/step - loss: 0.0040 - accuracy: 0.0031\n",
      "Epoch 53/75\n",
      "15/15 [==============================] - 1s 69ms/step - loss: 0.0041 - accuracy: 0.0031\n",
      "Epoch 54/75\n",
      "15/15 [==============================] - 1s 67ms/step - loss: 0.0047 - accuracy: 0.0031\n",
      "Epoch 55/75\n",
      "15/15 [==============================] - 1s 69ms/step - loss: 0.0039 - accuracy: 0.0031\n",
      "Epoch 56/75\n",
      "15/15 [==============================] - 1s 71ms/step - loss: 0.0036 - accuracy: 0.0031\n",
      "Epoch 57/75\n",
      "15/15 [==============================] - 1s 71ms/step - loss: 0.0038 - accuracy: 0.0031\n",
      "Epoch 58/75\n",
      "15/15 [==============================] - 1s 69ms/step - loss: 0.0037 - accuracy: 0.0031\n",
      "Epoch 59/75\n",
      "15/15 [==============================] - 1s 70ms/step - loss: 0.0039 - accuracy: 0.0031\n",
      "Epoch 60/75\n",
      "15/15 [==============================] - 1s 71ms/step - loss: 0.0040 - accuracy: 0.0031\n",
      "Epoch 61/75\n",
      "15/15 [==============================] - 1s 68ms/step - loss: 0.0040 - accuracy: 0.0031\n",
      "Epoch 62/75\n",
      "15/15 [==============================] - 1s 73ms/step - loss: 0.0033 - accuracy: 0.0031\n",
      "Epoch 63/75\n",
      "15/15 [==============================] - 1s 70ms/step - loss: 0.0037 - accuracy: 0.0031\n",
      "Epoch 64/75\n",
      "15/15 [==============================] - 1s 74ms/step - loss: 0.0038 - accuracy: 0.0031\n",
      "Epoch 65/75\n",
      "15/15 [==============================] - 1s 69ms/step - loss: 0.0040 - accuracy: 0.0031\n",
      "Epoch 66/75\n",
      "15/15 [==============================] - 1s 71ms/step - loss: 0.0043 - accuracy: 0.0031\n",
      "Epoch 67/75\n",
      "15/15 [==============================] - 1s 71ms/step - loss: 0.0040 - accuracy: 0.0031\n",
      "Epoch 68/75\n",
      "15/15 [==============================] - 1s 70ms/step - loss: 0.0042 - accuracy: 0.0031\n",
      "Epoch 69/75\n",
      "15/15 [==============================] - 1s 70ms/step - loss: 0.0035 - accuracy: 0.0031\n",
      "Epoch 70/75\n"
     ]
    },
    {
     "name": "stdout",
     "output_type": "stream",
     "text": [
      "15/15 [==============================] - 1s 68ms/step - loss: 0.0035 - accuracy: 0.0031\n",
      "Epoch 71/75\n",
      "15/15 [==============================] - 1s 70ms/step - loss: 0.0036 - accuracy: 0.0031\n",
      "Epoch 72/75\n",
      "15/15 [==============================] - 1s 69ms/step - loss: 0.0036 - accuracy: 0.0031\n",
      "Epoch 73/75\n",
      "15/15 [==============================] - 1s 70ms/step - loss: 0.0034 - accuracy: 0.0031\n",
      "Epoch 74/75\n",
      "15/15 [==============================] - 1s 68ms/step - loss: 0.0031 - accuracy: 0.0031\n",
      "Epoch 75/75\n",
      "14/15 [===========================>..] - ETA: 0s - loss: 0.0035 - accuracy: 0.0032"
     ]
    }
   ],
   "source": [
    "look_back = 30\n",
    "\n",
    "model = Sequential()\n",
    "# Ada Hidden\n",
    "model.add(LSTM(126,return_sequences=True, input_shape=(look_back, 1)))\n",
    "model.add(Dense(72, activation='tanh'))\n",
    "model.add(LSTM(64, return_sequences=False))\n",
    "model.add(Dense(48, activation='relu'))\n",
    "model.add(Dropout(0.5))\n",
    "model.add(Dense(1))\n",
    "\n",
    "model.summary()\n",
    "\n",
    "optimizer = Adam(learning_rate = 0.01)\n",
    "\n",
    "model.compile(optimizer=optimizer, loss='mse', metrics=['accuracy'])\n",
    "model.fit(x_train, y_train, batch_size= 68, epochs=75)"
   ]
  },
  {
   "cell_type": "markdown",
   "id": "14a69243",
   "metadata": {},
   "source": [
    "### Evaluation"
   ]
  },
  {
   "cell_type": "code",
   "execution_count": null,
   "id": "4451e0e0",
   "metadata": {},
   "outputs": [],
   "source": [
    "predict = model.predict(x_test)\n",
    "predict = mmscal.inverse_transform(predict)\n",
    "\n",
    "r2 = r2_score(y_test, predict)\n",
    "mae = mean_absolute_error(y_test, predict)\n",
    "mse = mean_squared_error(y_test, predict)\n",
    "rmse = np.sqrt(mean_squared_error(y_test, predict))\n",
    "\n",
    "print(\"Ini Nilai RMSE nya : \", rmse)\n",
    "print(\"Ini Nilai MSE nya : \", mse)\n",
    "print(\"Ini Nilai MAE nya : \", mae)\n",
    "print(\"Ini Nilai R2 nya : \", r2)"
   ]
  },
  {
   "cell_type": "markdown",
   "id": "90db48b7",
   "metadata": {},
   "source": [
    "### Visualization for Validation"
   ]
  },
  {
   "cell_type": "code",
   "execution_count": null,
   "id": "85f775a9",
   "metadata": {
    "scrolled": false
   },
   "outputs": [],
   "source": [
    "data = smra.filter(['Close'])\n",
    "train = data[:training_data_len]\n",
    "validation = data[training_data_len:]\n",
    "validation['Predictions'] = predict\n",
    "\n",
    "plt.figure(figsize=(16,8))\n",
    "plt.title('Model')\n",
    "plt.xlabel('Date')\n",
    "plt.ylabel('Close Price Rupiah (Rp.)')\n",
    "plt.plot(validation[['Close', 'Predictions']])\n",
    "plt.legend(['Train', 'Val', 'Predictions'], loc='lower right')\n",
    "plt.show()"
   ]
  },
  {
   "cell_type": "code",
   "execution_count": null,
   "id": "594be3b7",
   "metadata": {
    "scrolled": true
   },
   "outputs": [],
   "source": [
    "validation"
   ]
  },
  {
   "cell_type": "markdown",
   "id": "115e24b4",
   "metadata": {},
   "source": [
    "***\n",
    "\n",
    "### Save the notebook, then convert the notebook to html (by running the next code)."
   ]
  },
  {
   "cell_type": "code",
   "execution_count": null,
   "id": "1e86341c",
   "metadata": {
    "scrolled": false
   },
   "outputs": [],
   "source": [
    "!jupyter nbconvert --to html \"./00000053724_Jose Veinsenli_SourceCode_UAS_IF540L.ipynb\" --output-dir=\"./\""
   ]
  },
  {
   "cell_type": "code",
   "execution_count": null,
   "id": "5780761f",
   "metadata": {},
   "outputs": [],
   "source": []
  }
 ],
 "metadata": {
  "kernelspec": {
   "display_name": "Python 3 (ipykernel)",
   "language": "python",
   "name": "python3"
  },
  "language_info": {
   "codemirror_mode": {
    "name": "ipython",
    "version": 3
   },
   "file_extension": ".py",
   "mimetype": "text/x-python",
   "name": "python",
   "nbconvert_exporter": "python",
   "pygments_lexer": "ipython3",
   "version": "3.10.4"
  }
 },
 "nbformat": 4,
 "nbformat_minor": 5
}
